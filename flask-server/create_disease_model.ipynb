{
 "cells": [
  {
   "cell_type": "code",
   "execution_count": 3,
   "id": "e2e99445",
   "metadata": {},
   "outputs": [
    {
     "name": "stderr",
     "output_type": "stream",
     "text": [
      "2022-11-10 02:47:28.532842: I tensorflow/core/platform/cpu_feature_guard.cc:193] This TensorFlow binary is optimized with oneAPI Deep Neural Network Library (oneDNN) to use the following CPU instructions in performance-critical operations:  AVX2 FMA\n",
      "To enable them in other operations, rebuild TensorFlow with the appropriate compiler flags.\n"
     ]
    }
   ],
   "source": [
    "import numpy as np\n",
    "import pandas as pd\n",
    "from os import listdir\n",
    "import cv2\n",
    "from keras_preprocessing.image import img_to_array\n",
    "from keras.models import Sequential\n",
    "from keras.layers import Conv2D, MaxPooling2D, Dense, Flatten, Dropout\n",
    "from keras.metrics import categorical_crossentropy\n",
    "from keras.optimizers import SGD"
   ]
  },
  {
   "cell_type": "code",
   "execution_count": 4,
   "id": "7beef2b0",
   "metadata": {},
   "outputs": [],
   "source": [
    "def image_array(image_dir):\n",
    "    image_size = tuple((124, 124))\n",
    "\n",
    "    image = cv2.imread(image_dir)\n",
    "#     image = cv2.cvtColor(image, cv2.COLOR_BGR2GRAY)\n",
    "\n",
    "    if image is not None :\n",
    "        image = cv2.resize(image, image_size)   \n",
    "        return img_to_array(image)\n",
    "    else :\n",
    "        return np.array([])\n"
   ]
  },
  {
   "cell_type": "code",
   "execution_count": 53,
   "id": "668ec18e",
   "metadata": {},
   "outputs": [],
   "source": [
    "data_dir = \"../Plant_leave_diseases_dataset_without_augmentation\"\n",
    "labels = listdir(data_dir)"
   ]
  },
  {
   "cell_type": "code",
   "execution_count": 5,
   "id": "c098f51c",
   "metadata": {
    "scrolled": false
   },
   "outputs": [
    {
     "name": "stdout",
     "output_type": "stream",
     "text": [
      "0\n",
      "1000\n",
      "1\n",
      "1000\n",
      "2\n",
      "513\n",
      "3\n",
      "985\n",
      "4\n",
      "1192\n",
      "5\n",
      "1162\n",
      "6\n",
      "152\n"
     ]
    }
   ],
   "source": [
    "\n",
    "labels_numbers = [i for i in range(0, len(labels))]\n",
    "images_list = []\n",
    "labels_list = []\n",
    "images_list_test = []\n",
    "labels_list_test = []\n",
    "if \".DS_Store\" in labels:\n",
    "    labels.remove(\".DS_Store\")\n",
    "for i in range(0, len(labels)):\n",
    "    print(i)\n",
    "    label_dir = labels[i]\n",
    "    cur_images_list = listdir(f\"{data_dir}/{label_dir}\")\n",
    "    if \".DS_Store\" in cur_images_list:\n",
    "        cur_images_list.remove(\".DS_Store\")\n",
    "    image_len = len(cur_images_list)\n",
    "    print(image_len)\n",
    "\n",
    "    split_point = int(image_len * 0.8)\n",
    "    for img in cur_images_list[:split_point]:\n",
    "#         print(f\"{data_dir}/{label_dir}/{img}\")\n",
    "        images_list.append(image_array(f\"{data_dir}/{label_dir}/{img}\"))\n",
    "        labels_list.append(i)\n",
    "    for img in cur_images_list[split_point:]:\n",
    "        \n",
    "        images_list_test.append(image_array(f\"{data_dir}/{label_dir}/{img}\"))\n",
    "        labels_list_test.append(i)\n"
   ]
  },
  {
   "cell_type": "code",
   "execution_count": 8,
   "id": "b03c21d9",
   "metadata": {},
   "outputs": [],
   "source": [
    "Xtrain = np.array(images_list)\n",
    "Ytrain = np.array(labels_list)\n",
    "Xtest = np.array(images_list_test)\n",
    "Ytest = np.array(labels_list_test)"
   ]
  },
  {
   "cell_type": "code",
   "execution_count": 9,
   "id": "b4504484",
   "metadata": {},
   "outputs": [
    {
     "data": {
      "text/plain": [
       "(4801, 124, 124, 3)"
      ]
     },
     "execution_count": 9,
     "metadata": {},
     "output_type": "execute_result"
    }
   ],
   "source": [
    "Xtrain.shape\n",
    "\n"
   ]
  },
  {
   "cell_type": "code",
   "execution_count": 10,
   "id": "1fea4b86",
   "metadata": {},
   "outputs": [],
   "source": [
    "\n",
    "\n",
    "Xtrain = Xtrain.reshape(Xtrain.shape[0], 124, 124, 3)\n",
    "Xtest = Xtest.reshape(Xtest.shape[0], 124, 124, 3)\n",
    "Xtrain = np.pad(Xtrain, ((0,0),(2,2),(2,2),(0,0)), 'constant')\n",
    "Xtest = np.pad(Xtest, ((0,0),(2,2),(2,2),(0,0)), 'constant')\n",
    "mean_px = Xtrain.mean().astype(np.float32)\n",
    "std_px = Xtrain.std().astype(np.float32)\n",
    "Xtrain = (Xtrain - mean_px)/(std_px)\n"
   ]
  },
  {
   "cell_type": "code",
   "execution_count": null,
   "id": "9ec9a658",
   "metadata": {},
   "outputs": [],
   "source": []
  },
  {
   "cell_type": "code",
   "execution_count": 11,
   "id": "4a4ac779",
   "metadata": {},
   "outputs": [
    {
     "name": "stdout",
     "output_type": "stream",
     "text": [
      "4801\n"
     ]
    }
   ],
   "source": [
    "print(len(images_list))"
   ]
  },
  {
   "cell_type": "code",
   "execution_count": 12,
   "id": "b66bf2c2",
   "metadata": {},
   "outputs": [
    {
     "data": {
      "text/plain": [
       "(4801, 128, 128, 3)"
      ]
     },
     "execution_count": 12,
     "metadata": {},
     "output_type": "execute_result"
    }
   ],
   "source": [
    "Xtrain.shape"
   ]
  },
  {
   "cell_type": "code",
   "execution_count": 13,
   "id": "73d9df3b",
   "metadata": {},
   "outputs": [
    {
     "data": {
      "text/plain": [
       "(4801,)"
      ]
     },
     "execution_count": 13,
     "metadata": {},
     "output_type": "execute_result"
    }
   ],
   "source": [
    "Ytrain.shape"
   ]
  },
  {
   "cell_type": "code",
   "execution_count": 14,
   "id": "b1aa5c8c",
   "metadata": {},
   "outputs": [],
   "source": [
    "# from keras.utils.np_utils import to_categorical\n",
    "# Ytrain = to_categorical(Ytrain)"
   ]
  },
  {
   "cell_type": "code",
   "execution_count": 15,
   "id": "4d94c41c",
   "metadata": {},
   "outputs": [
    {
     "name": "stderr",
     "output_type": "stream",
     "text": [
      "2022-11-10 02:48:37.023614: I tensorflow/core/platform/cpu_feature_guard.cc:193] This TensorFlow binary is optimized with oneAPI Deep Neural Network Library (oneDNN) to use the following CPU instructions in performance-critical operations:  AVX2 FMA\n",
      "To enable them in other operations, rebuild TensorFlow with the appropriate compiler flags.\n"
     ]
    }
   ],
   "source": [
    "    \n",
    "# Initialize the model\n",
    "model = Sequential()\n",
    "#Layer 1\n",
    "#C$onv Lay\n",
    "model.add(Conv2D(filters = 6, \n",
    "                 kernel_size = 5, \n",
    "                 strides = 1, \n",
    "                 activation = 'relu', \n",
    "                 input_shape = (128,128,3)))\n",
    "#Pooling layer 1\n",
    "model.add(MaxPooling2D(pool_size = 2, strides = 2))\n",
    "#Layer 2\n",
    "#Conv Layer 2\n",
    "model.add(Conv2D(filters = 16, \n",
    "                 kernel_size = 5,\n",
    "                 strides = 1,\n",
    "                 activation = 'relu',\n",
    "                 input_shape = (124,124,6)))\n",
    "#Pooling Layer 2\n",
    "model.add(MaxPooling2D(pool_size = 2, strides = 2))\n",
    "#Flatten\n",
    "model.add(Flatten())\n",
    "#Layer 3\n",
    "#Fully connected layer 1\n",
    "model.add(Dense(units = 120, activation = 'relu'))\n",
    "#Layer 4\n",
    "#Fully connected layer 2\n",
    "model.add(Dense(units = 84, activation = 'relu'))\n",
    "#Layer 5\n",
    "#Output Layer\n",
    "model.add(Dense(units = 1, activation = 'softmax'))\n",
    "model.compile(optimizer = 'adam', loss = 'categorical_crossentropy', metrics = ['accuracy'])\n"
   ]
  },
  {
   "cell_type": "code",
   "execution_count": null,
   "id": "c58f6eb7",
   "metadata": {},
   "outputs": [],
   "source": []
  },
  {
   "cell_type": "code",
   "execution_count": 16,
   "id": "9f698912",
   "metadata": {},
   "outputs": [
    {
     "name": "stdout",
     "output_type": "stream",
     "text": [
      "Model: \"sequential\"\n",
      "_________________________________________________________________\n",
      " Layer (type)                Output Shape              Param #   \n",
      "=================================================================\n",
      " conv2d (Conv2D)             (None, 124, 124, 6)       456       \n",
      "                                                                 \n",
      " max_pooling2d (MaxPooling2D  (None, 62, 62, 6)        0         \n",
      " )                                                               \n",
      "                                                                 \n",
      " conv2d_1 (Conv2D)           (None, 58, 58, 16)        2416      \n",
      "                                                                 \n",
      " max_pooling2d_1 (MaxPooling  (None, 29, 29, 16)       0         \n",
      " 2D)                                                             \n",
      "                                                                 \n",
      " flatten (Flatten)           (None, 13456)             0         \n",
      "                                                                 \n",
      " dense (Dense)               (None, 120)               1614840   \n",
      "                                                                 \n",
      " dense_1 (Dense)             (None, 84)                10164     \n",
      "                                                                 \n",
      " dense_2 (Dense)             (None, 1)                 85        \n",
      "                                                                 \n",
      "=================================================================\n",
      "Total params: 1,627,961\n",
      "Trainable params: 1,627,961\n",
      "Non-trainable params: 0\n",
      "_________________________________________________________________\n"
     ]
    }
   ],
   "source": [
    "model.summary()"
   ]
  },
  {
   "cell_type": "code",
   "execution_count": 17,
   "id": "365e3aa6",
   "metadata": {},
   "outputs": [
    {
     "data": {
      "text/plain": [
       "4801"
      ]
     },
     "execution_count": 17,
     "metadata": {},
     "output_type": "execute_result"
    }
   ],
   "source": [
    "len(images_list)"
   ]
  },
  {
   "cell_type": "code",
   "execution_count": 18,
   "id": "2e012e74",
   "metadata": {},
   "outputs": [
    {
     "data": {
      "text/plain": [
       "(4801, 128, 128, 3)"
      ]
     },
     "execution_count": 18,
     "metadata": {},
     "output_type": "execute_result"
    }
   ],
   "source": [
    "Xtrain.shape"
   ]
  },
  {
   "cell_type": "code",
   "execution_count": 19,
   "id": "35652a46",
   "metadata": {},
   "outputs": [
    {
     "data": {
      "text/plain": [
       "(4801,)"
      ]
     },
     "execution_count": 19,
     "metadata": {},
     "output_type": "execute_result"
    }
   ],
   "source": [
    "Ytrain.shape"
   ]
  },
  {
   "cell_type": "code",
   "execution_count": 20,
   "id": "5ce946fd",
   "metadata": {
    "scrolled": false
   },
   "outputs": [
    {
     "name": "stdout",
     "output_type": "stream",
     "text": [
      "Epoch 1/10\n",
      "10/10 [==============================] - 36s 3s/step - loss: 0.0000e+00 - accuracy: 0.1666\n",
      "Epoch 2/10\n",
      "10/10 [==============================] - 33s 3s/step - loss: 0.0000e+00 - accuracy: 0.1666\n",
      "Epoch 3/10\n",
      "10/10 [==============================] - 31s 3s/step - loss: 0.0000e+00 - accuracy: 0.1666\n",
      "Epoch 4/10\n",
      "10/10 [==============================] - 31s 3s/step - loss: 0.0000e+00 - accuracy: 0.1666\n",
      "Epoch 5/10\n",
      "10/10 [==============================] - 32s 3s/step - loss: 0.0000e+00 - accuracy: 0.1666\n",
      "Epoch 6/10\n",
      "10/10 [==============================] - 32s 3s/step - loss: 0.0000e+00 - accuracy: 0.1666\n",
      "Epoch 7/10\n",
      "10/10 [==============================] - 34s 3s/step - loss: 0.0000e+00 - accuracy: 0.1666\n",
      "Epoch 8/10\n",
      "10/10 [==============================] - 32s 3s/step - loss: 0.0000e+00 - accuracy: 0.1666\n",
      "Epoch 9/10\n",
      "10/10 [==============================] - 33s 3s/step - loss: 0.0000e+00 - accuracy: 0.1666\n",
      "Epoch 10/10\n",
      "10/10 [==============================] - 33s 3s/step - loss: 0.0000e+00 - accuracy: 0.1666\n",
      "38/38 [==============================] - 5s 112ms/step\n"
     ]
    }
   ],
   "source": [
    "# from keras.utils.np_utils import to_categorical\n",
    "# Ytrain = to_categorical(Ytrain)\n",
    "model.fit(Xtrain ,Ytrain, steps_per_epoch = 10, epochs = 10)\n",
    "predictions = model.predict(Xtest)\n"
   ]
  },
  {
   "cell_type": "code",
   "execution_count": 21,
   "id": "2f1040f9",
   "metadata": {},
   "outputs": [
    {
     "data": {
      "text/plain": [
       "array([0, 0, 0, ..., 6, 6, 6])"
      ]
     },
     "execution_count": 21,
     "metadata": {},
     "output_type": "execute_result"
    }
   ],
   "source": [
    "Ytest"
   ]
  },
  {
   "cell_type": "code",
   "execution_count": 22,
   "id": "7e07cfff",
   "metadata": {},
   "outputs": [
    {
     "data": {
      "text/plain": [
       "1203"
      ]
     },
     "execution_count": 22,
     "metadata": {},
     "output_type": "execute_result"
    }
   ],
   "source": [
    "len(Ytest)"
   ]
  },
  {
   "cell_type": "code",
   "execution_count": 23,
   "id": "8c933e53",
   "metadata": {
    "scrolled": false
   },
   "outputs": [
    {
     "data": {
      "text/plain": [
       "array([[1.],\n",
       "       [1.],\n",
       "       [1.],\n",
       "       ...,\n",
       "       [1.],\n",
       "       [1.],\n",
       "       [1.]], dtype=float32)"
      ]
     },
     "execution_count": 23,
     "metadata": {},
     "output_type": "execute_result"
    }
   ],
   "source": [
    "predictions"
   ]
  },
  {
   "cell_type": "code",
   "execution_count": 24,
   "id": "22d307a8",
   "metadata": {},
   "outputs": [
    {
     "data": {
      "text/plain": [
       "'Potato___Late_blight'"
      ]
     },
     "execution_count": 24,
     "metadata": {},
     "output_type": "execute_result"
    }
   ],
   "source": [
    "labels[1]"
   ]
  },
  {
   "cell_type": "code",
   "execution_count": 25,
   "id": "d7d966b4",
   "metadata": {},
   "outputs": [
    {
     "name": "stdout",
     "output_type": "stream",
     "text": [
      "accuracy:  0.1662510390689942\n",
      "recall:  0.1662510390689942\n",
      "f1:  0.04739872817362629\n",
      "precision:  0.027639407991520232\n",
      "              precision    recall  f1-score   support\n",
      "\n",
      "           0       0.00      0.00      0.00       200\n",
      "           1       0.17      1.00      0.29       200\n",
      "           2       0.00      0.00      0.00       103\n",
      "           3       0.00      0.00      0.00       197\n",
      "           4       0.00      0.00      0.00       239\n",
      "           5       0.00      0.00      0.00       233\n",
      "           6       0.00      0.00      0.00        31\n",
      "\n",
      "    accuracy                           0.17      1203\n",
      "   macro avg       0.02      0.14      0.04      1203\n",
      "weighted avg       0.03      0.17      0.05      1203\n",
      "\n"
     ]
    },
    {
     "name": "stderr",
     "output_type": "stream",
     "text": [
      "/usr/local/lib/python3.9/site-packages/sklearn/metrics/_classification.py:1318: UndefinedMetricWarning: Precision is ill-defined and being set to 0.0 in labels with no predicted samples. Use `zero_division` parameter to control this behavior.\n",
      "  _warn_prf(average, modifier, msg_start, len(result))\n",
      "/usr/local/lib/python3.9/site-packages/sklearn/metrics/_classification.py:1318: UndefinedMetricWarning: Precision and F-score are ill-defined and being set to 0.0 in labels with no predicted samples. Use `zero_division` parameter to control this behavior.\n",
      "  _warn_prf(average, modifier, msg_start, len(result))\n",
      "/usr/local/lib/python3.9/site-packages/sklearn/metrics/_classification.py:1318: UndefinedMetricWarning: Precision and F-score are ill-defined and being set to 0.0 in labels with no predicted samples. Use `zero_division` parameter to control this behavior.\n",
      "  _warn_prf(average, modifier, msg_start, len(result))\n",
      "/usr/local/lib/python3.9/site-packages/sklearn/metrics/_classification.py:1318: UndefinedMetricWarning: Precision and F-score are ill-defined and being set to 0.0 in labels with no predicted samples. Use `zero_division` parameter to control this behavior.\n",
      "  _warn_prf(average, modifier, msg_start, len(result))\n"
     ]
    }
   ],
   "source": [
    "from sklearn.metrics import accuracy_score, recall_score, f1_score, precision_score, classification_report\n",
    "#metrics\n",
    "disease_accuracy = accuracy_score(Ytest, predictions)\n",
    "disease_recall = recall_score(Ytest, predictions, average='weighted')\n",
    "disease_f1 = f1_score(Ytest, predictions, average='weighted')\n",
    "disease_precision = precision_score(Ytest, predictions, average='weighted')\n",
    "\n",
    "print(\"accuracy: \",disease_accuracy)\n",
    "print(\"recall: \",disease_recall)\n",
    "print(\"f1: \",disease_f1)\n",
    "print(\"precision: \",disease_precision)\n",
    "print(classification_report(Ytest, predictions))"
   ]
  },
  {
   "cell_type": "code",
   "execution_count": 26,
   "id": "dc732aad",
   "metadata": {},
   "outputs": [
    {
     "name": "stderr",
     "output_type": "stream",
     "text": [
      "WARNING:absl:Found untraced functions such as _jit_compiled_convolution_op, _jit_compiled_convolution_op while saving (showing 2 of 2). These functions will not be directly callable after loading.\n"
     ]
    },
    {
     "name": "stdout",
     "output_type": "stream",
     "text": [
      "INFO:tensorflow:Assets written to: ram://a62a60cc-4722-4a0c-9ab2-15c097f44ebc/assets\n"
     ]
    },
    {
     "name": "stderr",
     "output_type": "stream",
     "text": [
      "INFO:tensorflow:Assets written to: ram://a62a60cc-4722-4a0c-9ab2-15c097f44ebc/assets\n"
     ]
    }
   ],
   "source": [
    "import pickle\n",
    "disease_model_file = open('disease_model.pkl', 'wb')\n",
    "pickle.dump(model, disease_model_file)"
   ]
  },
  {
   "cell_type": "code",
   "execution_count": 27,
   "id": "b517e09f",
   "metadata": {},
   "outputs": [
    {
     "name": "stderr",
     "output_type": "stream",
     "text": [
      "/Users/yuejiao/Library/Python/3.9/lib/python/site-packages/tqdm/auto.py:22: TqdmWarning: IProgress not found. Please update jupyter and ipywidgets. See https://ipywidgets.readthedocs.io/en/stable/user_install.html\n",
      "  from .autonotebook import tqdm as notebook_tqdm\n"
     ]
    }
   ],
   "source": [
    "from sklearn.decomposition import PCA\n",
    "import numpy as np\n",
    "import pandas as pd\n",
    "import time\n",
    "import json\n",
    "\n",
    "import pickle\n",
    "import torch\n",
    "import torch.nn as nn\n",
    "from torchvision import models, transforms\n",
    "from torch.autograd import Variable\n",
    "from PIL import Image"
   ]
  },
  {
   "cell_type": "code",
   "execution_count": 32,
   "id": "2d2979e0",
   "metadata": {},
   "outputs": [],
   "source": [
    "def feature_extract(image_dir):\n",
    "    vgg_model = models.vgg19(pretrained=True)\n",
    "    new_classifier = torch.nn.Sequential(*list(vgg_model.children())[-1][:6])\n",
    "    new_classifier.add_module(\"Linear output\", torch.nn.Linear(4096, 256))\n",
    "    vgg_model.classifier = new_classifier\n",
    "    trans = transforms.Compose([\n",
    "            transforms.Resize((224, 224)),\n",
    "            transforms.ToTensor(),\n",
    "            transforms.Normalize(mean=[0.485, 0.456, 0.406], std=[0.229, 0.224, 0.225])\n",
    "        ])\n",
    "    im = Image.open(image_dir).convert('RGB')\n",
    "    im = trans(im)\n",
    "    im.unsqueeze_(dim=0)\n",
    "    vgg_model = vgg_model.eval()\n",
    "    feature_extracted = vgg_model(im).data.numpy().tolist()[0]\n",
    "    feature_extracted = [float(i) for i in feature_extracted]\n",
    "    return feature_extracted"
   ]
  },
  {
   "cell_type": "code",
   "execution_count": null,
   "id": "c2612f4b",
   "metadata": {},
   "outputs": [],
   "source": [
    "data_dir = \"../Plant_leave_diseases_dataset_without_augmentation\"\n",
    "labels = listdir(data_dir)"
   ]
  },
  {
   "cell_type": "code",
   "execution_count": 55,
   "id": "be7e45f1",
   "metadata": {},
   "outputs": [
    {
     "data": {
      "text/plain": [
       "['Potato___Early_blight',\n",
       " '.DS_Store',\n",
       " 'Potato___Late_blight',\n",
       " 'Corn___Cercospora_leaf_spot Gray_leaf_spot',\n",
       " 'Corn___Northern_Leaf_Blight',\n",
       " 'Corn___Common_rust',\n",
       " 'Corn___healthy',\n",
       " 'Potato___healthy']"
      ]
     },
     "execution_count": 55,
     "metadata": {},
     "output_type": "execute_result"
    }
   ],
   "source": [
    "labels"
   ]
  },
  {
   "cell_type": "code",
   "execution_count": 33,
   "id": "c2804933",
   "metadata": {},
   "outputs": [
    {
     "name": "stdout",
     "output_type": "stream",
     "text": [
      "0\n",
      "1000\n",
      "0\n",
      "100\n",
      "200\n",
      "300\n",
      "400\n",
      "500\n",
      "600\n",
      "700\n",
      "800\n",
      "900\n",
      "1\n",
      "1000\n",
      "0\n",
      "100\n",
      "200\n",
      "300\n",
      "400\n",
      "500\n",
      "600\n",
      "700\n",
      "800\n",
      "900\n",
      "2\n",
      "513\n",
      "0\n",
      "100\n",
      "200\n",
      "300\n",
      "400\n",
      "500\n",
      "3\n",
      "985\n",
      "0\n",
      "100\n",
      "200\n",
      "300\n",
      "400\n",
      "500\n",
      "600\n",
      "700\n",
      "800\n",
      "900\n",
      "4\n",
      "1192\n",
      "0\n",
      "100\n",
      "200\n",
      "300\n",
      "400\n",
      "500\n",
      "600\n",
      "700\n",
      "800\n",
      "900\n",
      "1000\n",
      "1100\n",
      "5\n",
      "1162\n",
      "0\n",
      "100\n",
      "200\n",
      "300\n",
      "400\n",
      "500\n",
      "600\n",
      "700\n",
      "800\n",
      "900\n",
      "1000\n",
      "1100\n",
      "6\n",
      "152\n",
      "0\n",
      "100\n"
     ]
    }
   ],
   "source": [
    "\n",
    "labels_numbers = [i for i in range(0, len(labels))]\n",
    "images_list = []\n",
    "labels_list = []\n",
    "\n",
    "if \".DS_Store\" in labels:\n",
    "    labels.remove(\".DS_Store\")\n",
    "for i in range(0, len(labels)):\n",
    "    print(i)\n",
    "    \n",
    "    label_dir = labels[i]\n",
    "    cur_images_list = listdir(f\"{data_dir}/{label_dir}\")\n",
    "    if \".DS_Store\" in cur_images_list:\n",
    "        cur_images_list.remove(\".DS_Store\")\n",
    "    image_len = len(cur_images_list)\n",
    "    print(image_len)\n",
    "\n",
    "    count = 0\n",
    "    for img in cur_images_list:\n",
    "        if count % 100 == 0:\n",
    "            print(count)\n",
    "        count += 1\n",
    "#         print(f\"{data_dir}/{label_dir}/{img}\")\n",
    "        images_list.append(feature_extract(f\"{data_dir}/{label_dir}/{img}\"))\n",
    "        labels_list.append(i)\n",
    "\n"
   ]
  },
  {
   "cell_type": "code",
   "execution_count": 41,
   "id": "45baa515",
   "metadata": {},
   "outputs": [],
   "source": [
    "images_list = np.array(images_list)\n",
    "labels_list = np.array([labels_list])"
   ]
  },
  {
   "cell_type": "code",
   "execution_count": 42,
   "id": "b85e0601",
   "metadata": {},
   "outputs": [
    {
     "data": {
      "text/plain": [
       "6004"
      ]
     },
     "execution_count": 42,
     "metadata": {},
     "output_type": "execute_result"
    }
   ],
   "source": [
    "len(images_list)"
   ]
  },
  {
   "cell_type": "code",
   "execution_count": 43,
   "id": "5f62f4a1",
   "metadata": {},
   "outputs": [
    {
     "data": {
      "text/plain": [
       "array([[0, 0, 0, ..., 6, 6, 6]])"
      ]
     },
     "execution_count": 43,
     "metadata": {},
     "output_type": "execute_result"
    }
   ],
   "source": [
    "labels_list"
   ]
  },
  {
   "cell_type": "code",
   "execution_count": 44,
   "id": "65b41da1",
   "metadata": {},
   "outputs": [
    {
     "name": "stdout",
     "output_type": "stream",
     "text": [
      "(6004, 257)\n",
      "257\n"
     ]
    },
    {
     "data": {
      "text/html": [
       "<div>\n",
       "<style scoped>\n",
       "    .dataframe tbody tr th:only-of-type {\n",
       "        vertical-align: middle;\n",
       "    }\n",
       "\n",
       "    .dataframe tbody tr th {\n",
       "        vertical-align: top;\n",
       "    }\n",
       "\n",
       "    .dataframe thead th {\n",
       "        text-align: right;\n",
       "    }\n",
       "</style>\n",
       "<table border=\"1\" class=\"dataframe\">\n",
       "  <thead>\n",
       "    <tr style=\"text-align: right;\">\n",
       "      <th></th>\n",
       "      <th>label</th>\n",
       "      <th>image_0</th>\n",
       "      <th>image_1</th>\n",
       "      <th>image_2</th>\n",
       "      <th>image_3</th>\n",
       "      <th>image_4</th>\n",
       "      <th>image_5</th>\n",
       "      <th>image_6</th>\n",
       "      <th>image_7</th>\n",
       "      <th>image_8</th>\n",
       "      <th>...</th>\n",
       "      <th>image_246</th>\n",
       "      <th>image_247</th>\n",
       "      <th>image_248</th>\n",
       "      <th>image_249</th>\n",
       "      <th>image_250</th>\n",
       "      <th>image_251</th>\n",
       "      <th>image_252</th>\n",
       "      <th>image_253</th>\n",
       "      <th>image_254</th>\n",
       "      <th>image_255</th>\n",
       "    </tr>\n",
       "  </thead>\n",
       "  <tbody>\n",
       "    <tr>\n",
       "      <th>0</th>\n",
       "      <td>0.0</td>\n",
       "      <td>0.333085</td>\n",
       "      <td>0.106030</td>\n",
       "      <td>0.118983</td>\n",
       "      <td>-0.136160</td>\n",
       "      <td>0.345141</td>\n",
       "      <td>0.199062</td>\n",
       "      <td>-0.056617</td>\n",
       "      <td>-0.084141</td>\n",
       "      <td>-0.007428</td>\n",
       "      <td>...</td>\n",
       "      <td>-0.264285</td>\n",
       "      <td>-0.542027</td>\n",
       "      <td>-0.160324</td>\n",
       "      <td>0.008155</td>\n",
       "      <td>-0.525646</td>\n",
       "      <td>-0.038651</td>\n",
       "      <td>-0.296421</td>\n",
       "      <td>-0.256159</td>\n",
       "      <td>-0.000710</td>\n",
       "      <td>-0.346456</td>\n",
       "    </tr>\n",
       "    <tr>\n",
       "      <th>1</th>\n",
       "      <td>0.0</td>\n",
       "      <td>-0.012369</td>\n",
       "      <td>-0.423730</td>\n",
       "      <td>-0.011569</td>\n",
       "      <td>0.469790</td>\n",
       "      <td>-0.036361</td>\n",
       "      <td>-0.203854</td>\n",
       "      <td>0.204341</td>\n",
       "      <td>-0.408809</td>\n",
       "      <td>-0.718812</td>\n",
       "      <td>...</td>\n",
       "      <td>-0.002708</td>\n",
       "      <td>-0.140796</td>\n",
       "      <td>-0.145836</td>\n",
       "      <td>0.136490</td>\n",
       "      <td>0.041334</td>\n",
       "      <td>0.225173</td>\n",
       "      <td>-0.260967</td>\n",
       "      <td>0.338846</td>\n",
       "      <td>-0.172610</td>\n",
       "      <td>-0.048522</td>\n",
       "    </tr>\n",
       "    <tr>\n",
       "      <th>2</th>\n",
       "      <td>0.0</td>\n",
       "      <td>-0.078077</td>\n",
       "      <td>-0.488927</td>\n",
       "      <td>0.190697</td>\n",
       "      <td>0.229692</td>\n",
       "      <td>0.055479</td>\n",
       "      <td>0.344402</td>\n",
       "      <td>-0.084533</td>\n",
       "      <td>-0.399928</td>\n",
       "      <td>0.496378</td>\n",
       "      <td>...</td>\n",
       "      <td>0.522652</td>\n",
       "      <td>0.202150</td>\n",
       "      <td>0.085541</td>\n",
       "      <td>-0.044599</td>\n",
       "      <td>-0.171629</td>\n",
       "      <td>0.405004</td>\n",
       "      <td>0.076145</td>\n",
       "      <td>0.136882</td>\n",
       "      <td>0.151807</td>\n",
       "      <td>-0.431959</td>\n",
       "    </tr>\n",
       "    <tr>\n",
       "      <th>3</th>\n",
       "      <td>0.0</td>\n",
       "      <td>-0.586274</td>\n",
       "      <td>-0.028080</td>\n",
       "      <td>-0.613123</td>\n",
       "      <td>0.097704</td>\n",
       "      <td>0.242799</td>\n",
       "      <td>0.173298</td>\n",
       "      <td>0.714489</td>\n",
       "      <td>-0.726794</td>\n",
       "      <td>-0.136778</td>\n",
       "      <td>...</td>\n",
       "      <td>0.105646</td>\n",
       "      <td>0.665691</td>\n",
       "      <td>-0.906582</td>\n",
       "      <td>0.145873</td>\n",
       "      <td>-0.032639</td>\n",
       "      <td>0.346668</td>\n",
       "      <td>-0.140202</td>\n",
       "      <td>-0.681944</td>\n",
       "      <td>-0.264344</td>\n",
       "      <td>-0.252501</td>\n",
       "    </tr>\n",
       "    <tr>\n",
       "      <th>4</th>\n",
       "      <td>0.0</td>\n",
       "      <td>-0.621480</td>\n",
       "      <td>0.061952</td>\n",
       "      <td>-0.261676</td>\n",
       "      <td>-0.189272</td>\n",
       "      <td>-0.489902</td>\n",
       "      <td>-0.232653</td>\n",
       "      <td>-0.058048</td>\n",
       "      <td>-0.125082</td>\n",
       "      <td>-0.146416</td>\n",
       "      <td>...</td>\n",
       "      <td>0.215906</td>\n",
       "      <td>-0.139131</td>\n",
       "      <td>-0.146766</td>\n",
       "      <td>-0.129132</td>\n",
       "      <td>0.127822</td>\n",
       "      <td>0.288117</td>\n",
       "      <td>0.023322</td>\n",
       "      <td>-0.371559</td>\n",
       "      <td>0.167056</td>\n",
       "      <td>-0.084310</td>\n",
       "    </tr>\n",
       "    <tr>\n",
       "      <th>...</th>\n",
       "      <td>...</td>\n",
       "      <td>...</td>\n",
       "      <td>...</td>\n",
       "      <td>...</td>\n",
       "      <td>...</td>\n",
       "      <td>...</td>\n",
       "      <td>...</td>\n",
       "      <td>...</td>\n",
       "      <td>...</td>\n",
       "      <td>...</td>\n",
       "      <td>...</td>\n",
       "      <td>...</td>\n",
       "      <td>...</td>\n",
       "      <td>...</td>\n",
       "      <td>...</td>\n",
       "      <td>...</td>\n",
       "      <td>...</td>\n",
       "      <td>...</td>\n",
       "      <td>...</td>\n",
       "      <td>...</td>\n",
       "      <td>...</td>\n",
       "    </tr>\n",
       "    <tr>\n",
       "      <th>5999</th>\n",
       "      <td>6.0</td>\n",
       "      <td>-0.202717</td>\n",
       "      <td>0.337898</td>\n",
       "      <td>0.041325</td>\n",
       "      <td>-0.468199</td>\n",
       "      <td>-0.094142</td>\n",
       "      <td>0.055987</td>\n",
       "      <td>-0.092150</td>\n",
       "      <td>-0.430311</td>\n",
       "      <td>0.170651</td>\n",
       "      <td>...</td>\n",
       "      <td>-0.095759</td>\n",
       "      <td>0.215642</td>\n",
       "      <td>0.108238</td>\n",
       "      <td>-0.108072</td>\n",
       "      <td>-0.162908</td>\n",
       "      <td>0.026961</td>\n",
       "      <td>-0.077680</td>\n",
       "      <td>-0.322685</td>\n",
       "      <td>0.520305</td>\n",
       "      <td>0.108127</td>\n",
       "    </tr>\n",
       "    <tr>\n",
       "      <th>6000</th>\n",
       "      <td>6.0</td>\n",
       "      <td>0.577732</td>\n",
       "      <td>-0.078937</td>\n",
       "      <td>0.618071</td>\n",
       "      <td>-0.174721</td>\n",
       "      <td>-0.170915</td>\n",
       "      <td>-0.274375</td>\n",
       "      <td>0.079242</td>\n",
       "      <td>0.130200</td>\n",
       "      <td>0.172056</td>\n",
       "      <td>...</td>\n",
       "      <td>0.265790</td>\n",
       "      <td>-0.220983</td>\n",
       "      <td>-0.271514</td>\n",
       "      <td>-0.425752</td>\n",
       "      <td>-0.580750</td>\n",
       "      <td>0.198537</td>\n",
       "      <td>0.331740</td>\n",
       "      <td>0.070441</td>\n",
       "      <td>0.098987</td>\n",
       "      <td>-0.278149</td>\n",
       "    </tr>\n",
       "    <tr>\n",
       "      <th>6001</th>\n",
       "      <td>6.0</td>\n",
       "      <td>0.282249</td>\n",
       "      <td>-0.390429</td>\n",
       "      <td>0.076814</td>\n",
       "      <td>-0.259895</td>\n",
       "      <td>-0.326229</td>\n",
       "      <td>0.326043</td>\n",
       "      <td>0.511024</td>\n",
       "      <td>-0.137138</td>\n",
       "      <td>-0.169261</td>\n",
       "      <td>...</td>\n",
       "      <td>-0.162045</td>\n",
       "      <td>-0.274111</td>\n",
       "      <td>-0.406557</td>\n",
       "      <td>-0.184440</td>\n",
       "      <td>0.190075</td>\n",
       "      <td>0.328766</td>\n",
       "      <td>-0.272904</td>\n",
       "      <td>0.207780</td>\n",
       "      <td>0.026285</td>\n",
       "      <td>-0.335218</td>\n",
       "    </tr>\n",
       "    <tr>\n",
       "      <th>6002</th>\n",
       "      <td>6.0</td>\n",
       "      <td>0.016297</td>\n",
       "      <td>0.135664</td>\n",
       "      <td>-0.140099</td>\n",
       "      <td>-0.097214</td>\n",
       "      <td>-0.295706</td>\n",
       "      <td>-0.383177</td>\n",
       "      <td>-0.102116</td>\n",
       "      <td>0.240893</td>\n",
       "      <td>0.080595</td>\n",
       "      <td>...</td>\n",
       "      <td>-0.034478</td>\n",
       "      <td>-0.000823</td>\n",
       "      <td>-0.351963</td>\n",
       "      <td>-0.351104</td>\n",
       "      <td>-0.106051</td>\n",
       "      <td>0.377987</td>\n",
       "      <td>0.096716</td>\n",
       "      <td>-0.187763</td>\n",
       "      <td>0.464881</td>\n",
       "      <td>0.053844</td>\n",
       "    </tr>\n",
       "    <tr>\n",
       "      <th>6003</th>\n",
       "      <td>6.0</td>\n",
       "      <td>-0.358910</td>\n",
       "      <td>-0.044952</td>\n",
       "      <td>-0.336287</td>\n",
       "      <td>-0.015216</td>\n",
       "      <td>0.013138</td>\n",
       "      <td>0.309919</td>\n",
       "      <td>-0.190168</td>\n",
       "      <td>-0.198473</td>\n",
       "      <td>0.126824</td>\n",
       "      <td>...</td>\n",
       "      <td>0.113188</td>\n",
       "      <td>-0.020271</td>\n",
       "      <td>-0.418054</td>\n",
       "      <td>0.173871</td>\n",
       "      <td>0.218029</td>\n",
       "      <td>-0.304375</td>\n",
       "      <td>-0.144119</td>\n",
       "      <td>-0.111606</td>\n",
       "      <td>0.274335</td>\n",
       "      <td>-0.115238</td>\n",
       "    </tr>\n",
       "  </tbody>\n",
       "</table>\n",
       "<p>6004 rows × 257 columns</p>\n",
       "</div>"
      ],
      "text/plain": [
       "      label   image_0   image_1   image_2   image_3   image_4   image_5  \\\n",
       "0       0.0  0.333085  0.106030  0.118983 -0.136160  0.345141  0.199062   \n",
       "1       0.0 -0.012369 -0.423730 -0.011569  0.469790 -0.036361 -0.203854   \n",
       "2       0.0 -0.078077 -0.488927  0.190697  0.229692  0.055479  0.344402   \n",
       "3       0.0 -0.586274 -0.028080 -0.613123  0.097704  0.242799  0.173298   \n",
       "4       0.0 -0.621480  0.061952 -0.261676 -0.189272 -0.489902 -0.232653   \n",
       "...     ...       ...       ...       ...       ...       ...       ...   \n",
       "5999    6.0 -0.202717  0.337898  0.041325 -0.468199 -0.094142  0.055987   \n",
       "6000    6.0  0.577732 -0.078937  0.618071 -0.174721 -0.170915 -0.274375   \n",
       "6001    6.0  0.282249 -0.390429  0.076814 -0.259895 -0.326229  0.326043   \n",
       "6002    6.0  0.016297  0.135664 -0.140099 -0.097214 -0.295706 -0.383177   \n",
       "6003    6.0 -0.358910 -0.044952 -0.336287 -0.015216  0.013138  0.309919   \n",
       "\n",
       "       image_6   image_7   image_8  ...  image_246  image_247  image_248  \\\n",
       "0    -0.056617 -0.084141 -0.007428  ...  -0.264285  -0.542027  -0.160324   \n",
       "1     0.204341 -0.408809 -0.718812  ...  -0.002708  -0.140796  -0.145836   \n",
       "2    -0.084533 -0.399928  0.496378  ...   0.522652   0.202150   0.085541   \n",
       "3     0.714489 -0.726794 -0.136778  ...   0.105646   0.665691  -0.906582   \n",
       "4    -0.058048 -0.125082 -0.146416  ...   0.215906  -0.139131  -0.146766   \n",
       "...        ...       ...       ...  ...        ...        ...        ...   \n",
       "5999 -0.092150 -0.430311  0.170651  ...  -0.095759   0.215642   0.108238   \n",
       "6000  0.079242  0.130200  0.172056  ...   0.265790  -0.220983  -0.271514   \n",
       "6001  0.511024 -0.137138 -0.169261  ...  -0.162045  -0.274111  -0.406557   \n",
       "6002 -0.102116  0.240893  0.080595  ...  -0.034478  -0.000823  -0.351963   \n",
       "6003 -0.190168 -0.198473  0.126824  ...   0.113188  -0.020271  -0.418054   \n",
       "\n",
       "      image_249  image_250  image_251  image_252  image_253  image_254  \\\n",
       "0      0.008155  -0.525646  -0.038651  -0.296421  -0.256159  -0.000710   \n",
       "1      0.136490   0.041334   0.225173  -0.260967   0.338846  -0.172610   \n",
       "2     -0.044599  -0.171629   0.405004   0.076145   0.136882   0.151807   \n",
       "3      0.145873  -0.032639   0.346668  -0.140202  -0.681944  -0.264344   \n",
       "4     -0.129132   0.127822   0.288117   0.023322  -0.371559   0.167056   \n",
       "...         ...        ...        ...        ...        ...        ...   \n",
       "5999  -0.108072  -0.162908   0.026961  -0.077680  -0.322685   0.520305   \n",
       "6000  -0.425752  -0.580750   0.198537   0.331740   0.070441   0.098987   \n",
       "6001  -0.184440   0.190075   0.328766  -0.272904   0.207780   0.026285   \n",
       "6002  -0.351104  -0.106051   0.377987   0.096716  -0.187763   0.464881   \n",
       "6003   0.173871   0.218029  -0.304375  -0.144119  -0.111606   0.274335   \n",
       "\n",
       "      image_255  \n",
       "0     -0.346456  \n",
       "1     -0.048522  \n",
       "2     -0.431959  \n",
       "3     -0.252501  \n",
       "4     -0.084310  \n",
       "...         ...  \n",
       "5999   0.108127  \n",
       "6000  -0.278149  \n",
       "6001  -0.335218  \n",
       "6002   0.053844  \n",
       "6003  -0.115238  \n",
       "\n",
       "[6004 rows x 257 columns]"
      ]
     },
     "execution_count": 44,
     "metadata": {},
     "output_type": "execute_result"
    }
   ],
   "source": [
    "# pca reduction\n",
    "\n",
    "# pca = PCA(n_components=10)\n",
    "# pca_reduced = pca.fit_transform(images_list)\n",
    "\n",
    "\n",
    "#merge two array\n",
    "merged_features = np.concatenate((labels_list.T,images_list), 1)\n",
    "image_columns = ['image_'+str(i) for i in range(0, 256)]\n",
    "label_columns = ['label'] \n",
    "merged_colums = label_columns + image_columns\n",
    "print(merged_features.shape)\n",
    "\n",
    "print(len(merged_colums))\n",
    "df = pd.DataFrame(data = merged_features, columns=merged_colums)\n",
    "\n",
    "\n",
    "df"
   ]
  },
  {
   "cell_type": "code",
   "execution_count": null,
   "id": "5fbfe2e0",
   "metadata": {},
   "outputs": [],
   "source": []
  },
  {
   "cell_type": "code",
   "execution_count": 48,
   "id": "5c9c31fc",
   "metadata": {},
   "outputs": [
    {
     "name": "stdout",
     "output_type": "stream",
     "text": [
      "accuracy:  0.33305578684429643\n",
      "recall:  0.33305578684429643\n",
      "f1:  0.30372246104268097\n",
      "precision:  0.29153953014414064\n",
      "              precision    recall  f1-score   support\n",
      "\n",
      "         0.0       0.48      0.43      0.45       224\n",
      "         1.0       0.23      0.18      0.20       194\n",
      "         2.0       0.00      0.00      0.00       100\n",
      "         3.0       0.23      0.18      0.20       198\n",
      "         4.0       0.26      0.38      0.31       230\n",
      "         5.0       0.41      0.64      0.50       230\n",
      "         6.0       0.00      0.00      0.00        25\n",
      "\n",
      "    accuracy                           0.33      1201\n",
      "   macro avg       0.23      0.26      0.24      1201\n",
      "weighted avg       0.29      0.33      0.30      1201\n",
      "\n"
     ]
    },
    {
     "name": "stderr",
     "output_type": "stream",
     "text": [
      "/usr/local/lib/python3.9/site-packages/sklearn/metrics/_classification.py:1318: UndefinedMetricWarning: Precision is ill-defined and being set to 0.0 in labels with no predicted samples. Use `zero_division` parameter to control this behavior.\n",
      "  _warn_prf(average, modifier, msg_start, len(result))\n",
      "/usr/local/lib/python3.9/site-packages/sklearn/metrics/_classification.py:1318: UndefinedMetricWarning: Precision and F-score are ill-defined and being set to 0.0 in labels with no predicted samples. Use `zero_division` parameter to control this behavior.\n",
      "  _warn_prf(average, modifier, msg_start, len(result))\n",
      "/usr/local/lib/python3.9/site-packages/sklearn/metrics/_classification.py:1318: UndefinedMetricWarning: Precision and F-score are ill-defined and being set to 0.0 in labels with no predicted samples. Use `zero_division` parameter to control this behavior.\n",
      "  _warn_prf(average, modifier, msg_start, len(result))\n",
      "/usr/local/lib/python3.9/site-packages/sklearn/metrics/_classification.py:1318: UndefinedMetricWarning: Precision and F-score are ill-defined and being set to 0.0 in labels with no predicted samples. Use `zero_division` parameter to control this behavior.\n",
      "  _warn_prf(average, modifier, msg_start, len(result))\n"
     ]
    }
   ],
   "source": [
    "from sklearn.model_selection import train_test_split\n",
    "from sklearn.svm import SVC\n",
    "\n",
    "feature_name = ['image_'+str(i) for i in range(0,256)]\n",
    "features = df[feature_name]\n",
    "target = df['label']\n",
    "labels = df['label']\n",
    "Xtrain, Xtest, Ytrain, Ytest = train_test_split(features,target,test_size = 0.2)\n",
    "svm = SVC(gamma='scale')\n",
    "\n",
    "svm.fit(Xtrain,Ytrain)\n",
    "\n",
    "svm_predictions = svm.predict(Xtest)\n",
    "\n",
    "svm_accuracy = accuracy_score(Ytest, svm_predictions)\n",
    "svm_recall = recall_score(Ytest, svm_predictions, average='weighted')\n",
    "svm_f1 = f1_score(Ytest, svm_predictions, average='weighted')\n",
    "svm_precision = precision_score(Ytest, svm_predictions, average='weighted')\n",
    "\n",
    "print(\"accuracy: \",svm_accuracy)\n",
    "print(\"recall: \",svm_recall)\n",
    "print(\"f1: \",svm_f1)\n",
    "print(\"precision: \",svm_precision)\n",
    "print(classification_report(Ytest, svm_predictions))"
   ]
  },
  {
   "cell_type": "code",
   "execution_count": 51,
   "id": "ac54594e",
   "metadata": {},
   "outputs": [],
   "source": [
    "#save models\n",
    "svm_disease_file = open('svm_disease_model.pkl', 'wb')\n",
    "pickle.dump(svm, svm_disease_file)\n",
    "svm_disease_file.close()"
   ]
  },
  {
   "cell_type": "code",
   "execution_count": null,
   "id": "4116a822",
   "metadata": {},
   "outputs": [],
   "source": []
  }
 ],
 "metadata": {
  "kernelspec": {
   "display_name": "Python 3 (ipykernel)",
   "language": "python",
   "name": "python3"
  },
  "language_info": {
   "codemirror_mode": {
    "name": "ipython",
    "version": 3
   },
   "file_extension": ".py",
   "mimetype": "text/x-python",
   "name": "python",
   "nbconvert_exporter": "python",
   "pygments_lexer": "ipython3",
   "version": "3.9.12"
  }
 },
 "nbformat": 4,
 "nbformat_minor": 5
}
